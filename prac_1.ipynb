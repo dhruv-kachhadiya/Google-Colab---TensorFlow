{
  "nbformat": 4,
  "nbformat_minor": 0,
  "metadata": {
    "colab": {
      "name": "prac-1.ipynb",
      "provenance": [],
      "collapsed_sections": [],
      "authorship_tag": "ABX9TyOAmXFjf0QeSlaMpngkM7Xw",
      "include_colab_link": true
    },
    "kernelspec": {
      "name": "python3",
      "display_name": "Python 3"
    }
  },
  "cells": [
    {
      "cell_type": "markdown",
      "metadata": {
        "id": "view-in-github",
        "colab_type": "text"
      },
      "source": [
        "<a href=\"https://colab.research.google.com/github/dhruv-kachhadiya/Google-Colab-TensorFlow/blob/main/prac_1.ipynb\" target=\"_parent\"><img src=\"https://colab.research.google.com/assets/colab-badge.svg\" alt=\"Open In Colab\"/></a>"
      ]
    },
    {
      "cell_type": "code",
      "metadata": {
        "id": "o8IhHG341C4k"
      },
      "source": [
        "import tensorflow as tf"
      ],
      "execution_count": 1,
      "outputs": []
    },
    {
      "cell_type": "code",
      "metadata": {
        "id": "6x7w7z5g1Wep"
      },
      "source": [
        "hello = tf.constant(\"hello\")\r\n",
        "world = tf.constant(\"world\")"
      ],
      "execution_count": 3,
      "outputs": []
    },
    {
      "cell_type": "code",
      "metadata": {
        "colab": {
          "base_uri": "https://localhost:8080/"
        },
        "id": "i0bVpIcq2IbZ",
        "outputId": "449ba308-7d5a-47fd-8063-78a48be99952"
      },
      "source": [
        "tf.print(hello+\" \"+world)"
      ],
      "execution_count": 6,
      "outputs": [
        {
          "output_type": "stream",
          "text": [
            "hello world\n"
          ],
          "name": "stdout"
        }
      ]
    },
    {
      "cell_type": "code",
      "metadata": {
        "colab": {
          "base_uri": "https://localhost:8080/"
        },
        "id": "a5NZKBBu2PpP",
        "outputId": "a91230d9-c959-4aa3-ae46-d52490a99174"
      },
      "source": [
        "tf.fill([2,3],1)"
      ],
      "execution_count": 8,
      "outputs": [
        {
          "output_type": "execute_result",
          "data": {
            "text/plain": [
              "<tf.Tensor: shape=(2, 3), dtype=int32, numpy=\n",
              "array([[1, 1, 1],\n",
              "       [1, 1, 1]], dtype=int32)>"
            ]
          },
          "metadata": {
            "tags": []
          },
          "execution_count": 8
        }
      ]
    },
    {
      "cell_type": "code",
      "metadata": {
        "id": "TXXZLMWn24G6"
      },
      "source": [
        "ones_array = tf.ones([2,3])\r\n",
        "zeros_array = tf.zeros([2,3])"
      ],
      "execution_count": 9,
      "outputs": []
    },
    {
      "cell_type": "code",
      "metadata": {
        "colab": {
          "base_uri": "https://localhost:8080/"
        },
        "id": "JinE2-4Q3Lzn",
        "outputId": "d2c56b0e-1af6-4a1d-e426-1e41f5f70fd8"
      },
      "source": [
        "tf.print(ones_array)"
      ],
      "execution_count": 11,
      "outputs": [
        {
          "output_type": "stream",
          "text": [
            "[[1 1 1]\n",
            " [1 1 1]]\n"
          ],
          "name": "stdout"
        }
      ]
    },
    {
      "cell_type": "code",
      "metadata": {
        "colab": {
          "base_uri": "https://localhost:8080/"
        },
        "id": "Tij1JzXh3NCF",
        "outputId": "56802741-4227-471e-dc9c-aaeb69f85a6b"
      },
      "source": [
        "tf.print(zeros_array)"
      ],
      "execution_count": 12,
      "outputs": [
        {
          "output_type": "stream",
          "text": [
            "[[0 0 0]\n",
            " [0 0 0]]\n"
          ],
          "name": "stdout"
        }
      ]
    },
    {
      "cell_type": "code",
      "metadata": {
        "id": "w4aCFHPn3TUY"
      },
      "source": [
        "randn = tf.random.normal([5,5],mean=2,stddev=0.1)\r\n",
        "randu = tf.random.uniform([2,2],minval=10,maxval=20)"
      ],
      "execution_count": 27,
      "outputs": []
    },
    {
      "cell_type": "code",
      "metadata": {
        "colab": {
          "base_uri": "https://localhost:8080/"
        },
        "id": "soE4FTl036ge",
        "outputId": "1098b254-59f1-488d-a2f1-59c4c508be5f"
      },
      "source": [
        "tf.print(randn)\r\n",
        "print(\"\\n\")\r\n",
        "tf.print(randu)"
      ],
      "execution_count": 29,
      "outputs": [
        {
          "output_type": "stream",
          "text": [
            "[[2.14381337 2.1683135 2.28431702 1.95973468 1.94953108]\n",
            " [2.01364541 2.00728464 1.95004344 2.04089403 1.96055114]\n",
            " [2.04595184 2.06450796 2.13466644 1.93177855 1.95034695]\n",
            " [1.9167707 1.8779 1.97916949 2.13322663 2.13930106]\n",
            " [2.1759696 2.15494943 1.95290935 2.04614735 1.7160387]]\n",
            "\n",
            "\n",
            "[[16.2584267 18.8376884]\n",
            " [13.5923252 15.6066713]]\n"
          ],
          "name": "stdout"
        }
      ]
    },
    {
      "cell_type": "code",
      "metadata": {
        "id": "pgFG2qCi6T7G"
      },
      "source": [
        "a = tf.constant([[10,20],[30,40]])\r\n",
        "b = tf.constant([[100],[200]])"
      ],
      "execution_count": 32,
      "outputs": []
    },
    {
      "cell_type": "code",
      "metadata": {
        "id": "ljyFw6VK7U3L"
      },
      "source": [
        "answer = tf.matmul(a,b)"
      ],
      "execution_count": 34,
      "outputs": []
    },
    {
      "cell_type": "code",
      "metadata": {
        "colab": {
          "base_uri": "https://localhost:8080/"
        },
        "id": "U6dS-F_n7hty",
        "outputId": "c9224d38-5999-4ff4-d570-54d35b357198"
      },
      "source": [
        "print(answer)"
      ],
      "execution_count": 35,
      "outputs": [
        {
          "output_type": "stream",
          "text": [
            "tf.Tensor(\n",
            "[[ 5000]\n",
            " [11000]], shape=(2, 1), dtype=int32)\n"
          ],
          "name": "stdout"
        }
      ]
    },
    {
      "cell_type": "code",
      "metadata": {
        "id": "YKov9_xz7pAm"
      },
      "source": [
        ""
      ],
      "execution_count": null,
      "outputs": []
    }
  ]
}